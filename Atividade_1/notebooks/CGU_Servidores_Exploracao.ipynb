{
 "cells": [
  {
   "cell_type": "code",
   "execution_count": null,
   "id": "854afd7e",
   "metadata": {},
   "outputs": [],
   "source": [
    "import pandas as pd\n",
    "import numpy as np\n",
    "\n",
    "\n",
    "file_path = '../data/servidorPorOrgao.csv' \n",
    "df = pd.read_csv(file_path, delimiter=';')\n",
    "\n",
    "\n",
    "df_limpo = df.drop(columns=['Unnamed: 5'])\n",
    "\n",
    "print(\"--- VISÃO GERAL ---\")\n",
    "\n",
    "print(f\"Amostras (linhas): {df_limpo.shape[0]}\")\n",
    "\n",
    "print(f\"Atributos (colunas): {df_limpo.shape[1]}\") \n",
    "\n",
    "\n",
    "print(\"\\n--- PRIMEIRAS 5 LINHAS (DF LIMPO) ---\")\n",
    "display(df_limpo.head())\n",
    "\n",
    "\n",
    "print(\"\\n--- TIPOS DE DADOS E VALORES NÃO-NULOS ---\")\n",
    "df_limpo.info()\n",
    "\n",
    "\n",
    "print(\"\\n--- VALORES FALTANTES (DF LIMPO) ---\")\n",
    "print(df_limpo.isnull().sum())"
   ]
  }
 ],
 "metadata": {
  "language_info": {
   "name": "python"
  }
 },
 "nbformat": 4,
 "nbformat_minor": 5
}
