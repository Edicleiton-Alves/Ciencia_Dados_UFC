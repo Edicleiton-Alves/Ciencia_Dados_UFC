{
 "cells": [
  {
   "cell_type": "code",
   "execution_count": null,
   "id": "6310b5d8",
   "metadata": {},
   "outputs": [],
   "source": [
    "import pandas as pd"
   ]
  },
  {
   "cell_type": "code",
   "execution_count": null,
   "id": "4b8d8d82",
   "metadata": {},
   "outputs": [],
   "source": [
    "\n",
    "file_path = '../data/PIMPF - Produção física industrial por seções e atividades industriais.xlsx'\n",
    "\n",
    "try:\n",
    "    df = pd.read_excel(file_path)\n",
    "    print(\"Dados carregados com sucesso! Exibindo as primeiras 5 linhas:\")\n",
    "    display(df.head()) \n",
    "\n",
    "except Exception as e:\n",
    "    print(f\"ERRO ao carregar o arquivo: {e}\")"
   ]
  },
  {
   "cell_type": "code",
   "execution_count": null,
   "id": "d0b51c36",
   "metadata": {},
   "outputs": [],
   "source": [
    "print(\"Dimensões do Conjunto de Dados:\")\n",
    "\n",
    "print(f\"Amostras (linhas): {df.shape[0]}\")\n",
    "\n",
    "print(f\"Atributos (colunas): {df.shape[1]}\")\n",
    "\n",
    "print(\"\\nTipos de Dados e Contagem de Valores Não-Nulos:\")\n",
    "\n",
    "df.info()"
   ]
  },
  {
   "cell_type": "code",
   "execution_count": null,
   "id": "cb386645",
   "metadata": {},
   "outputs": [],
   "source": [
    "print(\"\\nContagem de Valores Faltantes (NaN):\")\n",
    "\n",
    "print(df.isnull().sum())"
   ]
  }
 ],
 "metadata": {
  "language_info": {
   "name": "python"
  }
 },
 "nbformat": 4,
 "nbformat_minor": 5
}
