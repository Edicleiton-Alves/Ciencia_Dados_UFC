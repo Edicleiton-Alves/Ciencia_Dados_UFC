{
 "cells": [
  {
   "cell_type": "code",
   "execution_count": null,
   "id": "583638e4",
   "metadata": {},
   "outputs": [],
   "source": [
    "import pandas as pd\n",
    "import numpy as np\n",
    "\n",
    "\n",
    "colunas_selecionadas = [\n",
    "    'Territorialidades',\n",
    "    'IDHM 1991', 'IDHM 2000', 'IDHM 2010', \n",
    "    'IDHM Renda 1991', 'IDHM Renda 2000', 'IDHM Renda 2010', \n",
    "    'IDHM Longevidade 1991', 'IDHM Longevidade 2000', 'IDHM Longevidade 2010', \n",
    "    'IDHM Educação 1991', 'IDHM Educação 2000', 'IDHM Educação 2010'\n",
    "]\n",
    "\n",
    "\n",
    "file_path = '../data/Atlas.xlsx - Worksheet.csv' \n",
    "df = pd.read_csv(file_path, delimiter=';')\n",
    "\n",
    "df_filtrado = df[colunas_selecionadas]\n",
    "\n",
    "print(\"--- VISÃO GERAL (APÓS FILTRAGEM) ---\")\n",
    "print(f\"Amostras (linhas): {df_filtrado.shape[0]}\")\n",
    "print(f\"Atributos (colunas): {df_filtrado.shape[1]}\")\n",
    "\n",
    "\n",
    "print(\"\\n--- TIPOS DE DADOS E VALORES NÃO-NULOS ---\")\n",
    "df_filtrado.info()\n",
    "\n",
    "\n",
    "print(\"\\n--- VALORES FALTANTES ---\")\n",
    "print(df_filtrado.isnull().sum())"
   ]
  }
 ],
 "metadata": {
  "language_info": {
   "name": "python"
  }
 },
 "nbformat": 4,
 "nbformat_minor": 5
}
